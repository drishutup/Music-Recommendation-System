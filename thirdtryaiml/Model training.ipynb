{
 "cells": [
  {
   "cell_type": "code",
   "execution_count": 139,
   "id": "27abadbf-3f8c-4ef3-96d9-9791908c6ac3",
   "metadata": {},
   "outputs": [],
   "source": [
    "import pandas as pd"
   ]
  },
  {
   "cell_type": "code",
   "execution_count": 140,
   "id": "5e436240-00b5-48a8-a629-15b29028591e",
   "metadata": {},
   "outputs": [],
   "source": [
    "df = pd.read_csv('spotify_millsongdata.csv')"
   ]
  },
  {
   "cell_type": "code",
   "execution_count": 141,
   "id": "a9bec197-8948-4743-9c7f-3fd97bcf52af",
   "metadata": {},
   "outputs": [
    {
     "data": {
      "text/html": [
       "<div>\n",
       "<style scoped>\n",
       "    .dataframe tbody tr th:only-of-type {\n",
       "        vertical-align: middle;\n",
       "    }\n",
       "\n",
       "    .dataframe tbody tr th {\n",
       "        vertical-align: top;\n",
       "    }\n",
       "\n",
       "    .dataframe thead th {\n",
       "        text-align: right;\n",
       "    }\n",
       "</style>\n",
       "<table border=\"1\" class=\"dataframe\">\n",
       "  <thead>\n",
       "    <tr style=\"text-align: right;\">\n",
       "      <th></th>\n",
       "      <th>artist</th>\n",
       "      <th>song</th>\n",
       "      <th>link</th>\n",
       "      <th>text</th>\n",
       "    </tr>\n",
       "  </thead>\n",
       "  <tbody>\n",
       "    <tr>\n",
       "      <th>0</th>\n",
       "      <td>ABBA</td>\n",
       "      <td>Ahe's My Kind Of Girl</td>\n",
       "      <td>/a/abba/ahes+my+kind+of+girl_20598417.html</td>\n",
       "      <td>Look at her face, it's a wonderful face  \\r\\nA...</td>\n",
       "    </tr>\n",
       "    <tr>\n",
       "      <th>1</th>\n",
       "      <td>ABBA</td>\n",
       "      <td>Andante, Andante</td>\n",
       "      <td>/a/abba/andante+andante_20002708.html</td>\n",
       "      <td>Take it easy with me, please  \\r\\nTouch me gen...</td>\n",
       "    </tr>\n",
       "    <tr>\n",
       "      <th>2</th>\n",
       "      <td>ABBA</td>\n",
       "      <td>As Good As New</td>\n",
       "      <td>/a/abba/as+good+as+new_20003033.html</td>\n",
       "      <td>I'll never know why I had to go  \\r\\nWhy I had...</td>\n",
       "    </tr>\n",
       "    <tr>\n",
       "      <th>3</th>\n",
       "      <td>ABBA</td>\n",
       "      <td>Bang</td>\n",
       "      <td>/a/abba/bang_20598415.html</td>\n",
       "      <td>Making somebody happy is a question of give an...</td>\n",
       "    </tr>\n",
       "    <tr>\n",
       "      <th>4</th>\n",
       "      <td>ABBA</td>\n",
       "      <td>Bang-A-Boomerang</td>\n",
       "      <td>/a/abba/bang+a+boomerang_20002668.html</td>\n",
       "      <td>Making somebody happy is a question of give an...</td>\n",
       "    </tr>\n",
       "  </tbody>\n",
       "</table>\n",
       "</div>"
      ],
      "text/plain": [
       "  artist                   song                                        link  \\\n",
       "0   ABBA  Ahe's My Kind Of Girl  /a/abba/ahes+my+kind+of+girl_20598417.html   \n",
       "1   ABBA       Andante, Andante       /a/abba/andante+andante_20002708.html   \n",
       "2   ABBA         As Good As New        /a/abba/as+good+as+new_20003033.html   \n",
       "3   ABBA                   Bang                  /a/abba/bang_20598415.html   \n",
       "4   ABBA       Bang-A-Boomerang      /a/abba/bang+a+boomerang_20002668.html   \n",
       "\n",
       "                                                text  \n",
       "0  Look at her face, it's a wonderful face  \\r\\nA...  \n",
       "1  Take it easy with me, please  \\r\\nTouch me gen...  \n",
       "2  I'll never know why I had to go  \\r\\nWhy I had...  \n",
       "3  Making somebody happy is a question of give an...  \n",
       "4  Making somebody happy is a question of give an...  "
      ]
     },
     "execution_count": 141,
     "metadata": {},
     "output_type": "execute_result"
    }
   ],
   "source": [
    "df.head()"
   ]
  },
  {
   "cell_type": "code",
   "execution_count": 142,
   "id": "e981c12d-25d5-496b-9674-0e18a4f35e80",
   "metadata": {
    "scrolled": true
   },
   "outputs": [
    {
     "data": {
      "text/html": [
       "<div>\n",
       "<style scoped>\n",
       "    .dataframe tbody tr th:only-of-type {\n",
       "        vertical-align: middle;\n",
       "    }\n",
       "\n",
       "    .dataframe tbody tr th {\n",
       "        vertical-align: top;\n",
       "    }\n",
       "\n",
       "    .dataframe thead th {\n",
       "        text-align: right;\n",
       "    }\n",
       "</style>\n",
       "<table border=\"1\" class=\"dataframe\">\n",
       "  <thead>\n",
       "    <tr style=\"text-align: right;\">\n",
       "      <th></th>\n",
       "      <th>artist</th>\n",
       "      <th>song</th>\n",
       "      <th>link</th>\n",
       "      <th>text</th>\n",
       "    </tr>\n",
       "  </thead>\n",
       "  <tbody>\n",
       "    <tr>\n",
       "      <th>57645</th>\n",
       "      <td>Ziggy Marley</td>\n",
       "      <td>Good Old Days</td>\n",
       "      <td>/z/ziggy+marley/good+old+days_10198588.html</td>\n",
       "      <td>Irie days come on play  \\r\\nLet the angels fly...</td>\n",
       "    </tr>\n",
       "    <tr>\n",
       "      <th>57646</th>\n",
       "      <td>Ziggy Marley</td>\n",
       "      <td>Hand To Mouth</td>\n",
       "      <td>/z/ziggy+marley/hand+to+mouth_20531167.html</td>\n",
       "      <td>Power to the workers  \\r\\nMore power  \\r\\nPowe...</td>\n",
       "    </tr>\n",
       "    <tr>\n",
       "      <th>57647</th>\n",
       "      <td>Zwan</td>\n",
       "      <td>Come With Me</td>\n",
       "      <td>/z/zwan/come+with+me_20148981.html</td>\n",
       "      <td>all you need  \\r\\nis something i'll believe  \\...</td>\n",
       "    </tr>\n",
       "    <tr>\n",
       "      <th>57648</th>\n",
       "      <td>Zwan</td>\n",
       "      <td>Desire</td>\n",
       "      <td>/z/zwan/desire_20148986.html</td>\n",
       "      <td>northern star  \\r\\nam i frightened  \\r\\nwhere ...</td>\n",
       "    </tr>\n",
       "    <tr>\n",
       "      <th>57649</th>\n",
       "      <td>Zwan</td>\n",
       "      <td>Heartsong</td>\n",
       "      <td>/z/zwan/heartsong_20148991.html</td>\n",
       "      <td>come in  \\r\\nmake yourself at home  \\r\\ni'm a ...</td>\n",
       "    </tr>\n",
       "  </tbody>\n",
       "</table>\n",
       "</div>"
      ],
      "text/plain": [
       "             artist           song  \\\n",
       "57645  Ziggy Marley  Good Old Days   \n",
       "57646  Ziggy Marley  Hand To Mouth   \n",
       "57647          Zwan   Come With Me   \n",
       "57648          Zwan         Desire   \n",
       "57649          Zwan      Heartsong   \n",
       "\n",
       "                                              link  \\\n",
       "57645  /z/ziggy+marley/good+old+days_10198588.html   \n",
       "57646  /z/ziggy+marley/hand+to+mouth_20531167.html   \n",
       "57647           /z/zwan/come+with+me_20148981.html   \n",
       "57648                 /z/zwan/desire_20148986.html   \n",
       "57649              /z/zwan/heartsong_20148991.html   \n",
       "\n",
       "                                                    text  \n",
       "57645  Irie days come on play  \\r\\nLet the angels fly...  \n",
       "57646  Power to the workers  \\r\\nMore power  \\r\\nPowe...  \n",
       "57647  all you need  \\r\\nis something i'll believe  \\...  \n",
       "57648  northern star  \\r\\nam i frightened  \\r\\nwhere ...  \n",
       "57649  come in  \\r\\nmake yourself at home  \\r\\ni'm a ...  "
      ]
     },
     "execution_count": 142,
     "metadata": {},
     "output_type": "execute_result"
    }
   ],
   "source": [
    "df.tail()"
   ]
  },
  {
   "cell_type": "code",
   "execution_count": 143,
   "id": "dfb0c42c-6407-40b0-96a4-15def9e3d6a4",
   "metadata": {},
   "outputs": [
    {
     "data": {
      "text/plain": [
       "(57650, 4)"
      ]
     },
     "execution_count": 143,
     "metadata": {},
     "output_type": "execute_result"
    }
   ],
   "source": [
    "df.shape"
   ]
  },
  {
   "cell_type": "code",
   "execution_count": 144,
   "id": "6ce8a579-09df-4163-b6ef-061ec5c213a4",
   "metadata": {},
   "outputs": [
    {
     "data": {
      "text/plain": [
       "artist    0\n",
       "song      0\n",
       "link      0\n",
       "text      0\n",
       "dtype: int64"
      ]
     },
     "execution_count": 144,
     "metadata": {},
     "output_type": "execute_result"
    }
   ],
   "source": [
    "df.isnull().sum()"
   ]
  },
  {
   "cell_type": "code",
   "execution_count": 145,
   "id": "67620cbd-197d-4a19-b170-faae472f01c0",
   "metadata": {},
   "outputs": [],
   "source": [
    "df = df.drop('link',axis=1).reset_index(drop=True)"
   ]
  },
  {
   "cell_type": "code",
   "execution_count": 146,
   "id": "0fabccd7-fd53-4ed8-83d6-a2207e74878d",
   "metadata": {},
   "outputs": [
    {
     "data": {
      "text/html": [
       "<div>\n",
       "<style scoped>\n",
       "    .dataframe tbody tr th:only-of-type {\n",
       "        vertical-align: middle;\n",
       "    }\n",
       "\n",
       "    .dataframe tbody tr th {\n",
       "        vertical-align: top;\n",
       "    }\n",
       "\n",
       "    .dataframe thead th {\n",
       "        text-align: right;\n",
       "    }\n",
       "</style>\n",
       "<table border=\"1\" class=\"dataframe\">\n",
       "  <thead>\n",
       "    <tr style=\"text-align: right;\">\n",
       "      <th></th>\n",
       "      <th>artist</th>\n",
       "      <th>song</th>\n",
       "      <th>text</th>\n",
       "    </tr>\n",
       "  </thead>\n",
       "  <tbody>\n",
       "    <tr>\n",
       "      <th>0</th>\n",
       "      <td>ABBA</td>\n",
       "      <td>Ahe's My Kind Of Girl</td>\n",
       "      <td>Look at her face, it's a wonderful face  \\r\\nA...</td>\n",
       "    </tr>\n",
       "    <tr>\n",
       "      <th>1</th>\n",
       "      <td>ABBA</td>\n",
       "      <td>Andante, Andante</td>\n",
       "      <td>Take it easy with me, please  \\r\\nTouch me gen...</td>\n",
       "    </tr>\n",
       "    <tr>\n",
       "      <th>2</th>\n",
       "      <td>ABBA</td>\n",
       "      <td>As Good As New</td>\n",
       "      <td>I'll never know why I had to go  \\r\\nWhy I had...</td>\n",
       "    </tr>\n",
       "    <tr>\n",
       "      <th>3</th>\n",
       "      <td>ABBA</td>\n",
       "      <td>Bang</td>\n",
       "      <td>Making somebody happy is a question of give an...</td>\n",
       "    </tr>\n",
       "    <tr>\n",
       "      <th>4</th>\n",
       "      <td>ABBA</td>\n",
       "      <td>Bang-A-Boomerang</td>\n",
       "      <td>Making somebody happy is a question of give an...</td>\n",
       "    </tr>\n",
       "    <tr>\n",
       "      <th>5</th>\n",
       "      <td>ABBA</td>\n",
       "      <td>Burning My Bridges</td>\n",
       "      <td>Well, you hoot and you holler and you make me ...</td>\n",
       "    </tr>\n",
       "    <tr>\n",
       "      <th>6</th>\n",
       "      <td>ABBA</td>\n",
       "      <td>Cassandra</td>\n",
       "      <td>Down in the street they're all singing and sho...</td>\n",
       "    </tr>\n",
       "    <tr>\n",
       "      <th>7</th>\n",
       "      <td>ABBA</td>\n",
       "      <td>Chiquitita</td>\n",
       "      <td>Chiquitita, tell me what's wrong  \\r\\nYou're e...</td>\n",
       "    </tr>\n",
       "    <tr>\n",
       "      <th>8</th>\n",
       "      <td>ABBA</td>\n",
       "      <td>Crazy World</td>\n",
       "      <td>I was out with the morning sun  \\r\\nCouldn't s...</td>\n",
       "    </tr>\n",
       "    <tr>\n",
       "      <th>9</th>\n",
       "      <td>ABBA</td>\n",
       "      <td>Crying Over You</td>\n",
       "      <td>I'm waitin' for you baby  \\r\\nI'm sitting all ...</td>\n",
       "    </tr>\n",
       "  </tbody>\n",
       "</table>\n",
       "</div>"
      ],
      "text/plain": [
       "  artist                   song  \\\n",
       "0   ABBA  Ahe's My Kind Of Girl   \n",
       "1   ABBA       Andante, Andante   \n",
       "2   ABBA         As Good As New   \n",
       "3   ABBA                   Bang   \n",
       "4   ABBA       Bang-A-Boomerang   \n",
       "5   ABBA     Burning My Bridges   \n",
       "6   ABBA              Cassandra   \n",
       "7   ABBA             Chiquitita   \n",
       "8   ABBA            Crazy World   \n",
       "9   ABBA        Crying Over You   \n",
       "\n",
       "                                                text  \n",
       "0  Look at her face, it's a wonderful face  \\r\\nA...  \n",
       "1  Take it easy with me, please  \\r\\nTouch me gen...  \n",
       "2  I'll never know why I had to go  \\r\\nWhy I had...  \n",
       "3  Making somebody happy is a question of give an...  \n",
       "4  Making somebody happy is a question of give an...  \n",
       "5  Well, you hoot and you holler and you make me ...  \n",
       "6  Down in the street they're all singing and sho...  \n",
       "7  Chiquitita, tell me what's wrong  \\r\\nYou're e...  \n",
       "8  I was out with the morning sun  \\r\\nCouldn't s...  \n",
       "9  I'm waitin' for you baby  \\r\\nI'm sitting all ...  "
      ]
     },
     "execution_count": 146,
     "metadata": {},
     "output_type": "execute_result"
    }
   ],
   "source": [
    "df.head(10)"
   ]
  },
  {
   "cell_type": "code",
   "execution_count": 147,
   "id": "036138df-4f18-4951-9c75-9e3df7960fa5",
   "metadata": {},
   "outputs": [
    {
     "data": {
      "text/plain": [
       "\"I'm waitin' for you baby  \\r\\nI'm sitting all alone  \\r\\nI feel so cold without you  \\r\\nIt chills me to the bone  \\r\\nI never thought you'd leave me  \\r\\nBut now I know it's true  \\r\\nOh Lord I'm blue  \\r\\nI'm cryin' over you  \\r\\nI'm waitin' for you baby  \\r\\nI'm sittin' all alone  \\r\\nI feel so cold without you  \\r\\nIt chills me to the bone  \\r\\nI never thought you'd leave me  \\r\\nBut now I know it's true  \\r\\nOh Lord I'm blue  \\r\\nI'm cryin' over you  \\r\\n  \\r\\nCryin' over you  \\r\\nI'm cryin' over you  \\r\\nCryin' over  \\r\\nLittle memories of things we used to do  \\r\\nOh Lord I'm blue  \\r\\nI'm cryin' over you  \\r\\nOh Lord I'm blue  \\r\\nI'm cryin' over you  \\r\\nOh Lord I'm blue  \\r\\nI'm cryin' over you\\r\\n\\r\\n\""
      ]
     },
     "execution_count": 147,
     "metadata": {},
     "output_type": "execute_result"
    }
   ],
   "source": [
    "df['text'][9]"
   ]
  },
  {
   "cell_type": "code",
   "execution_count": 148,
   "id": "cb443c6c-e500-472e-9081-9a60a8cf34fb",
   "metadata": {},
   "outputs": [
    {
     "data": {
      "text/html": [
       "<div>\n",
       "<style scoped>\n",
       "    .dataframe tbody tr th:only-of-type {\n",
       "        vertical-align: middle;\n",
       "    }\n",
       "\n",
       "    .dataframe tbody tr th {\n",
       "        vertical-align: top;\n",
       "    }\n",
       "\n",
       "    .dataframe thead th {\n",
       "        text-align: right;\n",
       "    }\n",
       "</style>\n",
       "<table border=\"1\" class=\"dataframe\">\n",
       "  <thead>\n",
       "    <tr style=\"text-align: right;\">\n",
       "      <th></th>\n",
       "      <th>artist</th>\n",
       "      <th>song</th>\n",
       "      <th>text</th>\n",
       "    </tr>\n",
       "  </thead>\n",
       "  <tbody>\n",
       "    <tr>\n",
       "      <th>34989</th>\n",
       "      <td>Halloween</td>\n",
       "      <td>Halloween Night</td>\n",
       "      <td>Chorus:  \\r\\nHallowe'en, Hallowe'en night,  \\r...</td>\n",
       "    </tr>\n",
       "    <tr>\n",
       "      <th>55741</th>\n",
       "      <td>Waylon Jennings</td>\n",
       "      <td>It's The World's GOne Crazy (Cotillion)</td>\n",
       "      <td>It's the world's gone crazy cotillion  \\r\\nThe...</td>\n",
       "    </tr>\n",
       "    <tr>\n",
       "      <th>40980</th>\n",
       "      <td>Kylie Minogue</td>\n",
       "      <td>Cupid Boy</td>\n",
       "      <td>If only you knew  \\r\\nI shimmer for you  \\r\\nO...</td>\n",
       "    </tr>\n",
       "    <tr>\n",
       "      <th>34023</th>\n",
       "      <td>Glee</td>\n",
       "      <td>Broadway Baby</td>\n",
       "      <td>Rachel:  \\r\\nI'm just a Broadway Baby  \\r\\nWal...</td>\n",
       "    </tr>\n",
       "    <tr>\n",
       "      <th>28774</th>\n",
       "      <td>Dave Matthews Band</td>\n",
       "      <td>Stolen Away On 55TH And 3RD</td>\n",
       "      <td>Hello again  \\r\\nSeems like forever between no...</td>\n",
       "    </tr>\n",
       "    <tr>\n",
       "      <th>...</th>\n",
       "      <td>...</td>\n",
       "      <td>...</td>\n",
       "      <td>...</td>\n",
       "    </tr>\n",
       "    <tr>\n",
       "      <th>39637</th>\n",
       "      <td>Kelly Clarkson</td>\n",
       "      <td>A Moment Like This(vegas Style)</td>\n",
       "      <td>What if I told you it was all meant to be,  \\r...</td>\n",
       "    </tr>\n",
       "    <tr>\n",
       "      <th>20890</th>\n",
       "      <td>Violent Femmes</td>\n",
       "      <td>Good Friend</td>\n",
       "      <td>If only you could know  \\r\\nHow I'd love you s...</td>\n",
       "    </tr>\n",
       "    <tr>\n",
       "      <th>16852</th>\n",
       "      <td>Raffi</td>\n",
       "      <td>Sharing Song</td>\n",
       "      <td>It's mine but you can have some  \\r\\nWith you ...</td>\n",
       "    </tr>\n",
       "    <tr>\n",
       "      <th>39180</th>\n",
       "      <td>Justin Bieber</td>\n",
       "      <td>PYD</td>\n",
       "      <td>[Intro:]  \\r\\nPyd pyd pyd  \\r\\nI'mma put you d...</td>\n",
       "    </tr>\n",
       "    <tr>\n",
       "      <th>45273</th>\n",
       "      <td>Neil Diamond</td>\n",
       "      <td>It Don't Seem Likely</td>\n",
       "      <td>Likely, it don't seem likely  \\r\\nFaithless lo...</td>\n",
       "    </tr>\n",
       "  </tbody>\n",
       "</table>\n",
       "<p>9000 rows × 3 columns</p>\n",
       "</div>"
      ],
      "text/plain": [
       "                   artist                                     song  \\\n",
       "34989           Halloween                          Halloween Night   \n",
       "55741     Waylon Jennings  It's The World's GOne Crazy (Cotillion)   \n",
       "40980       Kylie Minogue                                Cupid Boy   \n",
       "34023                Glee                            Broadway Baby   \n",
       "28774  Dave Matthews Band              Stolen Away On 55TH And 3RD   \n",
       "...                   ...                                      ...   \n",
       "39637      Kelly Clarkson          A Moment Like This(vegas Style)   \n",
       "20890      Violent Femmes                              Good Friend   \n",
       "16852               Raffi                             Sharing Song   \n",
       "39180       Justin Bieber                                      PYD   \n",
       "45273        Neil Diamond                     It Don't Seem Likely   \n",
       "\n",
       "                                                    text  \n",
       "34989  Chorus:  \\r\\nHallowe'en, Hallowe'en night,  \\r...  \n",
       "55741  It's the world's gone crazy cotillion  \\r\\nThe...  \n",
       "40980  If only you knew  \\r\\nI shimmer for you  \\r\\nO...  \n",
       "34023  Rachel:  \\r\\nI'm just a Broadway Baby  \\r\\nWal...  \n",
       "28774  Hello again  \\r\\nSeems like forever between no...  \n",
       "...                                                  ...  \n",
       "39637  What if I told you it was all meant to be,  \\r...  \n",
       "20890  If only you could know  \\r\\nHow I'd love you s...  \n",
       "16852  It's mine but you can have some  \\r\\nWith you ...  \n",
       "39180  [Intro:]  \\r\\nPyd pyd pyd  \\r\\nI'mma put you d...  \n",
       "45273  Likely, it don't seem likely  \\r\\nFaithless lo...  \n",
       "\n",
       "[9000 rows x 3 columns]"
      ]
     },
     "execution_count": 148,
     "metadata": {},
     "output_type": "execute_result"
    }
   ],
   "source": [
    "df.sample(9000)"
   ]
  },
  {
   "cell_type": "code",
   "execution_count": 149,
   "id": "95bd4928-fe87-4962-9c2b-9d8abde4e79a",
   "metadata": {},
   "outputs": [],
   "source": [
    "# Drop the first 20,000 rows\n",
    "df = df.drop(df.index[7000:])\n"
   ]
  },
  {
   "cell_type": "code",
   "execution_count": 150,
   "id": "d62351b6-f4fa-40f3-a1da-e86f8f716268",
   "metadata": {},
   "outputs": [
    {
     "data": {
      "text/plain": [
       "(7000, 3)"
      ]
     },
     "execution_count": 150,
     "metadata": {},
     "output_type": "execute_result"
    }
   ],
   "source": [
    "df.shape"
   ]
  },
  {
   "cell_type": "markdown",
   "id": "0c132944-3019-49c7-ab9b-c7c1a15a07b9",
   "metadata": {},
   "source": [
    "# text cleaning"
   ]
  },
  {
   "cell_type": "code",
   "execution_count": 151,
   "id": "a6d5b13c-888a-4566-b9fb-4cf557d774e3",
   "metadata": {},
   "outputs": [],
   "source": [
    "df['text'] = df['text'].str.lower().replace(r'\\w\\s', ' ').replace(r'\\n', ' ', regex = True)"
   ]
  },
  {
   "cell_type": "markdown",
   "id": "5e18e288-3b2a-4a96-b3fe-a69be289095a",
   "metadata": {},
   "source": [
    "# streamer"
   ]
  },
  {
   "cell_type": "code",
   "execution_count": 152,
   "id": "bb46957a-93a2-4865-8e38-26cf267b5756",
   "metadata": {},
   "outputs": [],
   "source": [
    "import nltk\n",
    "from nltk.stem.porter import PorterStemmer"
   ]
  },
  {
   "cell_type": "code",
   "execution_count": 153,
   "id": "c09f4b0d-f16f-4cf1-a207-9064fd82c9f2",
   "metadata": {},
   "outputs": [],
   "source": [
    "Stemmer = PorterStemmer()"
   ]
  },
  {
   "cell_type": "code",
   "execution_count": 154,
   "id": "fcc4ded4-80bc-4b45-9668-9d4c85c1ce83",
   "metadata": {},
   "outputs": [],
   "source": [
    "def token(txt):\n",
    "    token = nltk.word_tokenize(txt)\n",
    "    a = [Stemmer.stem(w) for w in token]\n",
    "    return \" \".join(a)\n",
    "    "
   ]
  },
  {
   "cell_type": "code",
   "execution_count": 155,
   "id": "fea17283-e6d5-4b79-a3fe-03b264fd0ab5",
   "metadata": {},
   "outputs": [
    {
     "data": {
      "text/plain": [
       "'you are beauti , beauti , beauti'"
      ]
     },
     "execution_count": 155,
     "metadata": {},
     "output_type": "execute_result"
    }
   ],
   "source": [
    "token(\"you are beautiful , beautie , beauty\")"
   ]
  },
  {
   "cell_type": "code",
   "execution_count": 156,
   "id": "ec4b98d6-1df7-4d73-af83-e9402e456539",
   "metadata": {},
   "outputs": [
    {
     "data": {
      "text/plain": [
       "0       look at her face , it 's a wonder face and it ...\n",
       "1       take it easi with me , pleas touch me gentli l...\n",
       "2       i 'll never know whi i had to go whi i had to ...\n",
       "3       make somebodi happi is a question of give and ...\n",
       "4       make somebodi happi is a question of give and ...\n",
       "                              ...                        \n",
       "6995    give me love ( give me love ) ? just call me ,...\n",
       "6996    a one two a one two , yeah yeah i 'd like to i...\n",
       "6997    the clock is tick , and i 'm here wish thi new...\n",
       "6998    whisper those word that make my mind ? ? so fa...\n",
       "6999    sometim it 's hard to make thing clear or know...\n",
       "Name: text, Length: 7000, dtype: object"
      ]
     },
     "execution_count": 156,
     "metadata": {},
     "output_type": "execute_result"
    }
   ],
   "source": [
    "df['text'].apply(lambda x: token(x)) "
   ]
  },
  {
   "cell_type": "code",
   "execution_count": 157,
   "id": "be743bc2-e325-49a2-b7fb-d9aa43eedf5b",
   "metadata": {},
   "outputs": [],
   "source": [
    "from sklearn.feature_extraction.text import TfidfVectorizer\n",
    "from sklearn.metrics.pairwise import cosine_similarity"
   ]
  },
  {
   "cell_type": "code",
   "execution_count": 158,
   "id": "f11585fc-9ecd-4424-a2e9-392efab09b9e",
   "metadata": {},
   "outputs": [],
   "source": [
    "tfid = TfidfVectorizer(analyzer = 'word',stop_words = 'english')"
   ]
  },
  {
   "cell_type": "code",
   "execution_count": 159,
   "id": "0ec54ff9-b7e5-4f4d-a3f0-f21db03747f6",
   "metadata": {},
   "outputs": [],
   "source": [
    "matrix = tfid.fit_transform(df['text'])"
   ]
  },
  {
   "cell_type": "code",
   "execution_count": 160,
   "id": "5b4a3c5f-6d79-4213-a5b9-0d781abc50c3",
   "metadata": {},
   "outputs": [],
   "source": [
    "similar = cosine_similarity(matrix)"
   ]
  },
  {
   "cell_type": "code",
   "execution_count": 161,
   "id": "eb8b3c6e-3309-4aa7-9a8f-049a4b592a5f",
   "metadata": {},
   "outputs": [
    {
     "data": {
      "text/plain": [
       "array([0.01446991, 0.00869877, 0.02999378, ..., 0.05467135, 0.07156291,\n",
       "       0.08311555])"
      ]
     },
     "execution_count": 161,
     "metadata": {},
     "output_type": "execute_result"
    }
   ],
   "source": [
    "similar[2300]"
   ]
  },
  {
   "cell_type": "code",
   "execution_count": 167,
   "id": "3fa92f9a-5cbf-4a19-b756-ac72c2715235",
   "metadata": {},
   "outputs": [
    {
     "data": {
      "text/plain": [
       "1525"
      ]
     },
     "execution_count": 167,
     "metadata": {},
     "output_type": "execute_result"
    }
   ],
   "source": [
    "df[df['song'] == 'Bang'].index[1]"
   ]
  },
  {
   "cell_type": "markdown",
   "id": "e6c2d3fd-84f8-4445-999e-fb3cb2592e7c",
   "metadata": {},
   "source": [
    "# Recommmender Fxn"
   ]
  },
  {
   "cell_type": "code",
   "execution_count": 164,
   "id": "d290c0fa-3ec6-4713-9e1c-be36a1623e9a",
   "metadata": {},
   "outputs": [],
   "source": [
    "def recommender(song_name):\n",
    "    idx = df[df['song'] == song_name].index[0]\n",
    "    distance = sorted(list(enumerate(similar[idx])), reverse=True, key=lambda x:x[1])\n",
    "    song = []\n",
    "    for s_id in distance[1:21]:\n",
    "        song.append(df.iloc[s_id[0]].song)\n",
    "    return song"
   ]
  },
  {
   "cell_type": "code",
   "execution_count": 165,
   "id": "673f7589-3d08-457b-b5f3-1fb9db80f9bc",
   "metadata": {},
   "outputs": [
    {
     "data": {
      "text/plain": [
       "['Sea Of Dreams',\n",
       " 'The Prime Of Your Love',\n",
       " 'Bang-A-Boomerang',\n",
       " 'Endless Love',\n",
       " 'Boom Boom Boom',\n",
       " \"Janie's Got A Gun\",\n",
       " \"Boom, Boom, Ain't It Great To Be Crazy?\",\n",
       " 'Solsbury Hill',\n",
       " 'Bang-Bang',\n",
       " 'Bang Bang (My Baby Shot Me Down)',\n",
       " 'Boom Boom',\n",
       " 'Bang A Drum',\n",
       " 'X Marks The Spot',\n",
       " 'The Ants Go Marching',\n",
       " 'Bang',\n",
       " 'I Love You Team Breezy',\n",
       " 'Love Me Tender',\n",
       " 'Love That Burns',\n",
       " 'I Do Love You',\n",
       " 'You']"
      ]
     },
     "execution_count": 165,
     "metadata": {},
     "output_type": "execute_result"
    }
   ],
   "source": [
    "recommender('Bang')"
   ]
  },
  {
   "cell_type": "code",
   "execution_count": null,
   "id": "99116b50",
   "metadata": {},
   "outputs": [],
   "source": []
  },
  {
   "cell_type": "code",
   "execution_count": null,
   "id": "0ec7c2f1-234d-4fe4-8a8f-afc856df3b3e",
   "metadata": {},
   "outputs": [],
   "source": []
  },
  {
   "cell_type": "code",
   "execution_count": null,
   "id": "2e95a126-560f-4800-8ba0-624caf68ddb8",
   "metadata": {},
   "outputs": [],
   "source": []
  }
 ],
 "metadata": {
  "kernelspec": {
   "display_name": "Python 3 (ipykernel)",
   "language": "python",
   "name": "python3"
  },
  "language_info": {
   "codemirror_mode": {
    "name": "ipython",
    "version": 3
   },
   "file_extension": ".py",
   "mimetype": "text/x-python",
   "name": "python",
   "nbconvert_exporter": "python",
   "pygments_lexer": "ipython3",
   "version": "3.9.12"
  }
 },
 "nbformat": 4,
 "nbformat_minor": 5
}
